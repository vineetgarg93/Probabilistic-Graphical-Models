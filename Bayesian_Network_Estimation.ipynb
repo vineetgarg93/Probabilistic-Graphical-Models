{
 "cells": [
  {
   "cell_type": "markdown",
   "metadata": {},
   "source": [
    "Bayesian Network is a class of Probabilistic Graphical Models which are a powerfull tool to model interactions between different variables in a model. Some of the most common applications of graphical models can be found in computer vision, signal processing, coding theory. There can be different graph estimation problems. Sometimes, we are given the graph structure and we need to estimate graph parameters. In some cases, we need to estimate graph structure along with graph parameters.\n",
    "\n",
    "In this notebook, we are trying to estimate a Bayesian Network from given data. First we estimate undirected graph from the data. We experiment with Correlation, Partial Correlation and Mutual Information to estimate the edges. Infact, correlation metric is very common in modelling interactions between different variables. However, we show that partial correlation metric significantly beats correlation and mutual information metric because it takes out the effect of all other variables.\n",
    "\n",
    "Next we estimate directed skeleton using immorality prediction and rule propagation. We use conditional mutual information as a measure of independence between different variables."
   ]
  },
  {
   "cell_type": "code",
   "execution_count": 1,
   "metadata": {},
   "outputs": [
    {
     "name": "stdout",
     "output_type": "stream",
     "text": [
      "Once deleted, variables cannot be recovered. Proceed (y/[n])? y\n"
     ]
    }
   ],
   "source": [
    "%reset\n",
    "import numpy as np\n",
    "from sklearn.metrics import mutual_info_score\n",
    "from scipy.stats.stats import pearsonr\n",
    "from sklearn.feature_selection import mutual_info_classif\n",
    "import pandas as pd\n",
    "import scipy as sc\n",
    "from pyitlib import discrete_random_variable as drv\n",
    "import importlib\n",
    "import matplotlib.pyplot as plt\n",
    "import itertools\n",
    "from pgmpy.estimators import ConstraintBasedEstimator"
   ]
  },
  {
   "cell_type": "code",
   "execution_count": 2,
   "metadata": {},
   "outputs": [],
   "source": [
    "# Function to generate data from a conditional probability distribution\n",
    "\n",
    "def generate_conditional(P, X, Y, size):\n",
    "    Z = np.zeros(size)\n",
    "    \n",
    "    if (len(Y) > 0):\n",
    "        for i in range(len(Z)):\n",
    "            if (Y[i] == 0):\n",
    "                if (X[i] == 0):\n",
    "                    Z[i] = np.random.choice(a = [0, 1], size = 1, p=[1 - P[0], P[0]])\n",
    "                else:\n",
    "                    Z[i] = np.random.choice(a = [0, 1], size = 1, p=[1 - P[1], P[1]])\n",
    "            else:\n",
    "                if (X[i] == 0):\n",
    "                    Z[i] = np.random.choice(a = [0, 1], size = 1, p=[1 - P[2], P[2]]);\n",
    "                else:\n",
    "                    Z[i] = np.random.choice(a = [0, 1], size = 1, p=[1 - P[3], P[3]]);\n",
    "    else:\n",
    "        for i in range(len(Z)):\n",
    "            if (X[i] == 0):\n",
    "                Z[i] = np.random.choice(a = [0, 1], size = 1, p=[1 - P[0], P[0]])\n",
    "            else:\n",
    "                Z[i] = np.random.choice(a = [0, 1], size = 1, p=[1 - P[1], P[1]]);\n",
    "        \n",
    "    return Z"
   ]
  },
  {
   "cell_type": "code",
   "execution_count": 3,
   "metadata": {},
   "outputs": [],
   "source": [
    "# Function to construct Bayesian Network for data generation\n",
    "\n",
    "def generate_samples(sample_size):\n",
    "    A = np.random.choice(a = [0, 1], size = sample_size, p=[0.1, 0.9])\n",
    "    B = np.random.choice(a = [0, 1], size = sample_size, p=[0.85, 0.15])\n",
    "\n",
    "    P = [0.1, 0.9, 0.8, 0.2]\n",
    "    C = generate_conditional(P, A, B, len(A))\n",
    "    C = C.astype(int)\n",
    "\n",
    "    P = [0.1, 0.85]\n",
    "    D = generate_conditional(P, C, [], len(C))\n",
    "    D = D.astype(int)\n",
    "\n",
    "    P = [0.75, 0.25]\n",
    "    E = generate_conditional(P, C, [], len(C))\n",
    "    E = E.astype(int)\n",
    "\n",
    "    P = [0.25, 0.85, 0.75, 0.9]\n",
    "    G = generate_conditional(P, D, E, len(D))\n",
    "    G = G.astype(int)\n",
    "\n",
    "    P = [0.1, 0.9, 0.8, 0.1]\n",
    "    F = generate_conditional(P, D, G, len(D))\n",
    "    F = F.astype(int)\n",
    "    \n",
    "    P = np.row_stack((A,B,C,D,E,F,G))\n",
    "    \n",
    "    return P"
   ]
  },
  {
   "cell_type": "code",
   "execution_count": 4,
   "metadata": {},
   "outputs": [],
   "source": [
    "# Correlation Matrix of data\n",
    "\n",
    "def generate_correlation_matrix(P):\n",
    "    Correlation_Matrix = np.corrcoef(P)\n",
    "    Correlation_Matrix = np.around(Correlation_Matrix, decimals=3)\n",
    "    return Correlation_Matrix"
   ]
  },
  {
   "cell_type": "code",
   "execution_count": 5,
   "metadata": {},
   "outputs": [],
   "source": [
    "# Partial Correlation Matrix of data\n",
    "\n",
    "def generate_partial_correlation_matrix(P, Correlation_Matrix):\n",
    "    Partial_Correlation_Matrix = np.linalg.inv(Correlation_Matrix)\n",
    "    Partial_Correlation_Matrix = np.around(Partial_Correlation_Matrix, decimals=3)\n",
    "    return Partial_Correlation_Matrix"
   ]
  },
  {
   "cell_type": "code",
   "execution_count": 6,
   "metadata": {},
   "outputs": [],
   "source": [
    "# Mutual Information Matrix of data\n",
    "\n",
    "def generate_mutual_info_matrix(P):\n",
    "    Mutual_Info_Matrix = drv.information_mutual(P)\n",
    "    Mutual_Info_Matrix = np.around(Mutual_Info_Matrix, decimals=3)\n",
    "    return Mutual_Info_Matrix"
   ]
  },
  {
   "cell_type": "code",
   "execution_count": 7,
   "metadata": {},
   "outputs": [],
   "source": [
    "# Function to count True (False) Positives (Negatives)\n",
    "\n",
    "def TPR_FPR(edges_true, edges_predicted):\n",
    "    \n",
    "    TP = 0\n",
    "    FP = 0\n",
    "    TN = 0\n",
    "    FN = 0\n",
    "    \n",
    "    for edge in edges_predicted:\n",
    "        if edge in edges_true and edges_predicted[edge] == 1:\n",
    "            TP += 1\n",
    "            continue\n",
    "        if edge not in edges_true and edges_predicted[edge] == 1:\n",
    "            FP += 1\n",
    "            continue\n",
    "        if edge in edges_true and edges_predicted[edge] == 0:\n",
    "            FN += 1\n",
    "            continue\n",
    "        if edge not in edges_true and edges_predicted[edge] == 0:\n",
    "            TN += 1\n",
    "            continue\n",
    "        \n",
    "    TPR = TP/(TP + FN)\n",
    "    FPR = FP/(FP + TN)\n",
    "    \n",
    "    return TPR, FPR"
   ]
  },
  {
   "cell_type": "code",
   "execution_count": 8,
   "metadata": {},
   "outputs": [],
   "source": [
    "# Function to calculate area under the curve of an ROC curve\n",
    "\n",
    "def ROC_AUC(TPR,FPR):\n",
    "    AUC = 0\n",
    "    for i in range(1,len(TPR)):\n",
    "        AUC = AUC + 0.5*(TPR[i-1] + TPR[i])*(FPR[i-1] - FPR[i])\n",
    "    \n",
    "    return AUC"
   ]
  },
  {
   "cell_type": "code",
   "execution_count": 9,
   "metadata": {},
   "outputs": [],
   "source": [
    "# Function to compute different points of ROC Curve\n",
    "\n",
    "def ROC_Analysis(Matrix,vertices,edges_undirected_true,method = \"\",plot_fig = 0):\n",
    "    threshold = np.linspace(0, np.max(Matrix), num = 100)\n",
    "    \n",
    "    TPR = np.zeros(len(threshold))\n",
    "    FPR = np.zeros(len(threshold))\n",
    "\n",
    "    for l in range(len(threshold)):\n",
    "        edges_undirected_predicted = predict_edges(Matrix,vertices,threshold[l])\n",
    "        \n",
    "        TPR[l], FPR[l] = TPR_FPR(edges_undirected_true,edges_undirected_predicted)\n",
    "    \n",
    "    if plot_fig:\n",
    "        %pylab\n",
    "        %matplotlib inline\n",
    "        plt.plot(FPR, TPR, '-*')\n",
    "        plt.xlabel(\"False Positve Rate\")\n",
    "        plt.ylabel(\"True Positive Rate\")\n",
    "        plt.title(\"ROC Curve using %s method\" %method)\n",
    "        plt.grid()\n",
    "        plt.show()\n",
    "        \n",
    "    AUC = ROC_AUC(TPR,FPR)\n",
    "        \n",
    "    return AUC"
   ]
  },
  {
   "cell_type": "code",
   "execution_count": 10,
   "metadata": {},
   "outputs": [],
   "source": [
    "# Function to compute ROC Statistics for different methods\n",
    "\n",
    "def ROC_Statistics(Iterations,sample_size,vertices,edges_undirected_true):\n",
    "\n",
    "    AUC_Corr = np.zeros(Iterations)\n",
    "    AUC_Mutual_Info = np.zeros(Iterations)\n",
    "    AUC_Partial_Corr = np.zeros(Iterations)\n",
    "\n",
    "    for i in range(Iterations):\n",
    "\n",
    "        P = generate_samples(sample_size)\n",
    "\n",
    "        Correlation_Matrix = generate_correlation_matrix(P)\n",
    "        Partial_Correlation_Matrix = generate_partial_correlation_matrix(P, Correlation_Matrix)\n",
    "        Mutual_Info_Matrix = generate_mutual_info_matrix(P)\n",
    "\n",
    "        AUC_Corr[i] = ROC_Analysis(Correlation_Matrix,vertices,edges_undirected_true)\n",
    "        AUC_Partial_Corr[i] = ROC_Analysis(Partial_Correlation_Matrix,vertices,edges_undirected_true)\n",
    "        AUC_Mutual_Info[i] = ROC_Analysis(Mutual_Info_Matrix,vertices,edges_undirected_true)\n",
    "    \n",
    "    return AUC_Corr, AUC_Partial_Corr, AUC_Mutual_Info"
   ]
  },
  {
   "cell_type": "code",
   "execution_count": 11,
   "metadata": {},
   "outputs": [],
   "source": [
    "def strIntersection(s1, s2):\n",
    "    out = \"\"\n",
    "    for c in s1:\n",
    "        if c in s2 and not c in out:\n",
    "            out += c\n",
    "    return out"
   ]
  },
  {
   "cell_type": "code",
   "execution_count": 12,
   "metadata": {},
   "outputs": [],
   "source": [
    "# Function to calculate Conditional Mutual Information from random variables\n",
    "\n",
    "def conditional_mutual_information(X,Y,Z):\n",
    "        \n",
    "    info_conditional = drv.entropy_joint(np.row_stack((X,Z))) + drv.entropy_joint(np.row_stack((Y,Z))) \\\n",
    "                        - drv.entropy_joint(np.row_stack((X,Y,Z))) - drv.entropy_joint(Z)\n",
    "        \n",
    "    return info_conditional"
   ]
  },
  {
   "cell_type": "code",
   "execution_count": 13,
   "metadata": {},
   "outputs": [],
   "source": [
    "def compute_conditional_mutual_informtion_1(df_data):\n",
    "\n",
    "    # Conditional Mutual Informtion with 1 witness of independence\n",
    "    x = 0\n",
    "    y = 0\n",
    "    Conditional_mutual_info_array_1 = np.zeros([len(vertices),len(vertices) - 1,len(vertices) - 2])\n",
    "    for i in range(df_data.shape[1]):\n",
    "        for j in range(df_data.shape[1]):\n",
    "            if (j != i):\n",
    "                for k in range(df_data.shape[1]):\n",
    "                    if (k != i and k != j):\n",
    "                        Conditional_mutual_info_array_1[i,x,y] = (conditional_mutual_information\\\n",
    "                                                                              (df_data[str(i+1)].values,\\\n",
    "                                                                               df_data[str(j+1)].values,\\\n",
    "                                                                               df_data[str(k+1)].values))\n",
    "                        y = y + 1\n",
    "                y = 0\n",
    "                x = x + 1\n",
    "        x = 0\n",
    "    return Conditional_mutual_info_array_1"
   ]
  },
  {
   "cell_type": "code",
   "execution_count": 14,
   "metadata": {},
   "outputs": [],
   "source": [
    "def compute_conditional_mutual_informtion_2(df_data):\n",
    "# Conditional Mutual Informtion with 2 witness of independence\n",
    "    x = 0\n",
    "    y = 0\n",
    "    Conditional_mutual_info_array_2 = np.zeros([7,6,10])\n",
    "    for i in range(df_data.shape[1]):\n",
    "        for j in range(df_data.shape[1]):\n",
    "            if (j != i):\n",
    "                for k in range(df_data.shape[1]):\n",
    "                    if (k != i and k != j):\n",
    "                        for l in range(k, df_data.shape[1]):\n",
    "                            if (l != i and l != j and l != k):\n",
    "                                Conditional_mutual_info_array_2[i,x,y] = (conditional_mutual_information\\\n",
    "                                                                                      (df_data[str(i+1)].values,\\\n",
    "                                                                                       df_data[str(j+1)].values,\\\n",
    "                                                                                       np.row_stack((df_data[str(k+1)].values,\\\n",
    "                                                                                                      df_data[str(l+1)].values))))\n",
    "                                y = y + 1\n",
    "                y = 0\n",
    "                x = x + 1\n",
    "        x = 0\n",
    "    return Conditional_mutual_info_array_2"
   ]
  },
  {
   "cell_type": "code",
   "execution_count": 15,
   "metadata": {},
   "outputs": [],
   "source": [
    "def find_witness_of_independence_1(Conditional_mutual_info_array_1,edges_undirected_predicted_PMAP,\\\n",
    "                                  Witness_of_independence, vertices, thresh):\n",
    "    \n",
    "    for i in range(len(vertices)):\n",
    "        for j in range(i+1,len(vertices)):\n",
    "            for k in range(Conditional_mutual_info_array_1.shape[2]):\n",
    "                if Conditional_mutual_info_array_1[i,j-1,k] < thresh:\n",
    "                    edges_undirected_predicted_PMAP[str(vertices[i]) + str(vertices[j])] = 0\n",
    "                    if vertices[k] >= vertices[j-1]:\n",
    "                        Witness_of_independence[str(vertices[i]) + str(vertices[j])].append(vertices[k+2])\n",
    "                    elif vertices[k] >= vertices[i]:\n",
    "                        Witness_of_independence[str(vertices[i]) + str(vertices[j])].append(vertices[k+1])\n",
    "                    elif vertices[k] < vertices[i]:\n",
    "                        Witness_of_independence[str(vertices[i]) + str(vertices[j])].append(vertices[k])    \n",
    "    \n",
    "    return Witness_of_independence, edges_undirected_predicted_PMAP"
   ]
  },
  {
   "cell_type": "code",
   "execution_count": 16,
   "metadata": {},
   "outputs": [],
   "source": [
    "def find_witness_of_independence_2(Conditional_mutual_info_array_2,edges_undirected_predicted_PMAP,\\\n",
    "                                  Witness_of_independence, vertices, thresh, Edge_List):\n",
    "    \n",
    "    for i in range(len(vertices)):\n",
    "        for j in range(i+1,len(vertices)):\n",
    "            pp = -1\n",
    "            qq = 0\n",
    "            for k in range(len(vertices)-2):\n",
    "                for l in range(k+1,len(vertices)-2):\n",
    "                    pp += 1\n",
    "                    if Conditional_mutual_info_array_2[i,j-1,pp] < thresh:\n",
    "                        edges_undirected_predicted_PMAP[str(vertices[i]) + str(vertices[j])] = 0\n",
    "                        while(vertices[i] in Edge_List[qq] or vertices[j] in Edge_List[qq]):\n",
    "                            qq += 1\n",
    "\n",
    "                        Witness_of_independence[str(vertices[i]) + str(vertices[j])].append(Edge_List[qq])\n",
    "                        qq += 1    \n",
    "    \n",
    "    return Witness_of_independence, edges_undirected_predicted_PMAP"
   ]
  },
  {
   "cell_type": "code",
   "execution_count": 17,
   "metadata": {},
   "outputs": [],
   "source": [
    "def predict_edges(Matrix,vertices,threshold):\n",
    "    \n",
    "    edges_undirected_predicted = {}\n",
    "    for i in range(Matrix.shape[0]):\n",
    "        for j in range(i+1,Matrix.shape[1]):\n",
    "            edges_undirected_predicted[str(vertices[i]) + str(vertices[j])] = 0\n",
    "            if abs(Matrix[i,j]) > threshold:\n",
    "                edges_undirected_predicted[str(vertices[i]) + str(vertices[j])] = 1\n",
    "        \n",
    "    return edges_undirected_predicted"
   ]
  },
  {
   "cell_type": "code",
   "execution_count": 18,
   "metadata": {},
   "outputs": [],
   "source": [
    "# function to remove bidirectional edges in estimated Bayesian Network\n",
    "\n",
    "def remove_bidirectional_edges(edges_predicted_PMAP_Matrix,immoralities_predicted,vertices):\n",
    "    \n",
    "    for i in range(edges_predicted_PMAP_Matrix.shape[0]):\n",
    "        for j in range(i+1,edges_predicted_PMAP_Matrix.shape[1]):\n",
    "            \n",
    "            if edges_predicted_PMAP_Matrix[i,j] == 2 and \\\n",
    "            edges_predicted_PMAP_Matrix[j,i] == 2:\n",
    "\n",
    "                if np.random.choice([0,1]):\n",
    "                    edges_predicted_PMAP_Matrix[i,j] = 2\n",
    "                    edges_predicted_PMAP_Matrix[j,i] = 0\n",
    "\n",
    "                    for entries in immoralities_predicted:\n",
    "                        if entries[1] == vertices[i] and (entries[0] == vertices[j] or entries[2] == vertices[j]):\n",
    "                            immoralities_predicted.remove(entries)\n",
    "\n",
    "                else:\n",
    "                    edges_predicted_PMAP_Matrix[i,j] = 0\n",
    "                    edges_predicted_PMAP_Matrix[j,i] = 2\n",
    "\n",
    "                    for entries in immoralities_predicted:\n",
    "                        if entries[1] == vertices[j] and (entries[0] == vertices[i] or entries[2] == vertices[i]):\n",
    "                            immoralities_predicted.remove(entries)\n",
    "                            \n",
    "    return edges_predicted_PMAP_Matrix, immoralities_predicted"
   ]
  },
  {
   "cell_type": "code",
   "execution_count": 19,
   "metadata": {},
   "outputs": [],
   "source": [
    "# Immorality (V-structure) prediction in grpah structure\n",
    "\n",
    "def get_immorality_prediction(edges_undirected_predicted_PMAP, edges_directed_predicted_PMAP):\n",
    "    immoralities_predicted = []\n",
    "\n",
    "    for key_1 in edges_undirected_predicted_PMAP:\n",
    "        for key_2 in edges_undirected_predicted_PMAP:\n",
    "            if key_1 != key_2:\n",
    "                if edges_undirected_predicted_PMAP[key_1] and edges_undirected_predicted_PMAP[key_2]:\n",
    "                    immoral_node = strIntersection(key_1,key_2)\n",
    "\n",
    "                    if immoral_node:\n",
    "                        qq = key_1.replace(immoral_node,\"\") + key_2.replace(immoral_node,\"\")\n",
    "                        immoral_edge = min(qq,qq[::-1])                    \n",
    "                        if edges_undirected_predicted_PMAP[immoral_edge] == 0 and \\\n",
    "                        not immoral_node in Witness_of_independence[immoral_edge]:                        \n",
    "                            edges_directed_predicted_PMAP[key_1.replace(immoral_node,\"\")+immoral_node] = 1\n",
    "                            edges_directed_predicted_PMAP[key_2.replace(immoral_node,\"\")+immoral_node] = 1\n",
    "\n",
    "                            immoralities_predicted.append(min(key_1.replace(immoral_node,\"\")\\\n",
    "                                                              ,key_2.replace(immoral_node,\"\")\\\n",
    "                                                             )\\\n",
    "                                                          + immoral_node + \\\n",
    "                                                          max(key_1.replace(immoral_node,\"\")\\\n",
    "                                                              ,key_2.replace(immoral_node,\"\")\\\n",
    "                                                             ))\n",
    "\n",
    "    immoralities_predicted = list(set(immoralities_predicted))\n",
    "    return immoralities_predicted, edges_directed_predicted_PMAP"
   ]
  },
  {
   "cell_type": "code",
   "execution_count": 20,
   "metadata": {},
   "outputs": [],
   "source": [
    "# Use of Rule propagation for directionality estimation\n",
    "\n",
    "def generate_pdag(skel):\n",
    "    triplets = list(itertools.permutations(range(0,7),3))\n",
    "    quadruplets = list(itertools.permutations(range(0,7),4))\n",
    "    while(1):\n",
    "        change = False\n",
    "        for t in triplets:\n",
    "            if(skel[t[0], t[1]] == 2 and skel[t[1], t[2]] == 1 and skel[t[0], t[2]] == 0):\n",
    "                skel[t[1], t[2]] = 2\n",
    "                change = True\n",
    "            if(skel[t[0], t[1]] == 2 and skel[t[1], t[2]] == 2 and skel[t[0], t[2]] == 1):\n",
    "                skel[t[0], t[2]] = 2\n",
    "                change = True\n",
    "        for q in quadruplets:\n",
    "            if(skel[t[0], t[1]] == 1 and skel[t[0], t[2]] == 1 and skel[t[0], t[3]] == 1\\\n",
    "               and skel[(t[1], t[3])] == 2 and skel[(t[2], t[3])] == 2):\n",
    "                skel[t[0], t[3]] = 2\n",
    "                change = True\n",
    "        if change == False:\n",
    "            break\n",
    "    return skel"
   ]
  },
  {
   "cell_type": "markdown",
   "metadata": {},
   "source": [
    "We are provided with a Bayesian Network. We generate data based on different sample sizes (eg. 50, 100, 500) from the given network. We use Correlation, Partial Correlation and Mutual Information methods to estimate undirected edges. Later, we perform error analysis of these estimated edges with respect to the edges of actual underlying network"
   ]
  },
  {
   "cell_type": "code",
   "execution_count": 21,
   "metadata": {},
   "outputs": [],
   "source": [
    "edges_undirected_true = ['AC','BC','CD','CE','DG','DF','EG','FG']\n",
    "vertices = ['A','B','C','D','E','F','G']"
   ]
  },
  {
   "cell_type": "code",
   "execution_count": 22,
   "metadata": {},
   "outputs": [
    {
     "name": "stdout",
     "output_type": "stream",
     "text": [
      "Using matplotlib backend: Qt5Agg\n",
      "Populating the interactive namespace from numpy and matplotlib\n"
     ]
    },
    {
     "data": {
      "image/png": "[encoded data removed]",
      "text/plain": [
       "<matplotlib.figure.Figure at 0x15737442908>"
      ]
     },
     "metadata": {},
     "output_type": "display_data"
    },
    {
     "name": "stdout",
     "output_type": "stream",
     "text": [
      "Using matplotlib backend: Qt5Agg\n",
      "Populating the interactive namespace from numpy and matplotlib\n"
     ]
    },
    {
     "data": {
      "image/png": "[encoded data removed]",
      "text/plain": [
       "<matplotlib.figure.Figure at 0x1573743d080>"
      ]
     },
     "metadata": {},
     "output_type": "display_data"
    },
    {
     "name": "stdout",
     "output_type": "stream",
     "text": [
      "Using matplotlib backend: Qt5Agg\n",
      "Populating the interactive namespace from numpy and matplotlib\n"
     ]
    },
    {
     "data": {
      "image/png": "[encoded data removed]",
      "text/plain": [
       "<matplotlib.figure.Figure at 0x1573743d048>"
      ]
     },
     "metadata": {},
     "output_type": "display_data"
    }
   ],
   "source": [
    "# Undirected Edge Prediction for single sample size of 50, 100 and 500\n",
    "\n",
    "sample_size = [50,100,500]\n",
    "sample_size = sample_size[2]\n",
    "\n",
    "P = generate_samples(sample_size)\n",
    "Correlation_Matrix = generate_correlation_matrix(P)\n",
    "Partial_Correlation_Matrix = generate_partial_correlation_matrix(P, Correlation_Matrix)\n",
    "Mutual_Info_Matrix = generate_mutual_info_matrix(P)\n",
    "\n",
    "edges_undirected_correlation = predict_edges(Correlation_Matrix, vertices, 0.25)\n",
    "edges_undirected_partial_correlation = predict_edges(Partial_Correlation_Matrix, vertices, 0.2)\n",
    "edges_undirected_mutual_info = predict_edges(Mutual_Info_Matrix, vertices, 0.05)\n",
    "\n",
    "edges_undirected_part_a_b = {}\n",
    "\n",
    "for edge in edges_undirected_correlation:\n",
    "    edges_undirected_part_a_b[edge] = []\n",
    "    edges_undirected_part_a_b[edge].append(edges_undirected_correlation[edge])\n",
    "    edges_undirected_part_a_b[edge].append(edges_undirected_partial_correlation[edge])\n",
    "    edges_undirected_part_a_b[edge].append(edges_undirected_mutual_info[edge])\n",
    "    \n",
    "_ = ROC_Analysis(Correlation_Matrix,vertices,edges_undirected_true,\"Correlation\",1)\n",
    "_ = ROC_Analysis(Partial_Correlation_Matrix,vertices,edges_undirected_true,\"Partial Correlation\",1)\n",
    "_ = ROC_Analysis(Mutual_Info_Matrix,vertices,edges_undirected_true,\"Mutual Information\",1)"
   ]
  },
  {
   "cell_type": "code",
   "execution_count": 23,
   "metadata": {},
   "outputs": [
    {
     "data": {
      "text/plain": [
       "{'AB': [0, 1, 0],\n",
       " 'AC': [1, 1, 1],\n",
       " 'AD': [1, 0, 1],\n",
       " 'AE': [1, 0, 0],\n",
       " 'AF': [0, 0, 0],\n",
       " 'AG': [0, 0, 0],\n",
       " 'BC': [1, 1, 1],\n",
       " 'BD': [1, 0, 1],\n",
       " 'BE': [0, 0, 0],\n",
       " 'BF': [0, 0, 0],\n",
       " 'BG': [0, 0, 0],\n",
       " 'CD': [1, 1, 1],\n",
       " 'CE': [1, 1, 1],\n",
       " 'CF': [0, 0, 0],\n",
       " 'CG': [0, 0, 0],\n",
       " 'DE': [1, 0, 1],\n",
       " 'DF': [1, 1, 1],\n",
       " 'DG': [1, 1, 1],\n",
       " 'EF': [0, 0, 0],\n",
       " 'EG': [0, 1, 0],\n",
       " 'FG': [0, 0, 0]}"
      ]
     },
     "execution_count": 23,
     "metadata": {},
     "output_type": "execute_result"
    }
   ],
   "source": [
    "edges_undirected_part_a_b"
   ]
  },
  {
   "cell_type": "code",
   "execution_count": 24,
   "metadata": {},
   "outputs": [
    {
     "name": "stderr",
     "output_type": "stream",
     "text": [
      "C:\\Users\\Vineet\\Anaconda3\\lib\\site-packages\\numpy\\lib\\function_base.py:3183: RuntimeWarning: invalid value encountered in true_divide\n",
      "  c /= stddev[:, None]\n",
      "C:\\Users\\Vineet\\Anaconda3\\lib\\site-packages\\numpy\\lib\\function_base.py:3184: RuntimeWarning: invalid value encountered in true_divide\n",
      "  c /= stddev[None, :]\n",
      "C:\\Users\\Vineet\\Anaconda3\\lib\\site-packages\\numpy\\core\\_methods.py:26: RuntimeWarning: invalid value encountered in reduce\n",
      "  return umr_maximum(a, axis, None, out, keepdims)\n"
     ]
    }
   ],
   "source": [
    "# ROC Analysis of Edge Predictions\n",
    "\n",
    "sample_size = [50, 100, 500]\n",
    "\n",
    "# 50 iterations for statistical evaluation of ROC Curve\n",
    "Iterations = 50\n",
    "\n",
    "AUC_Corr_mean = np.zeros(len(sample_size))\n",
    "AUC_Partial_Corr_mean = np.zeros(len(sample_size))\n",
    "AUC_Mutual_Info_mean = np.zeros(len(sample_size))\n",
    "\n",
    "AUC_Corr_std = np.zeros(len(sample_size))\n",
    "AUC_Partial_Corr_std = np.zeros(len(sample_size))\n",
    "AUC_Mutual_Info_std = np.zeros(len(sample_size))\n",
    "\n",
    "for i in range(len(sample_size)):\n",
    "    AUC_Corr, AUC_Partial_Corr, AUC_Mutual_Info = ROC_Statistics(Iterations,sample_size[i],\\\n",
    "                                                             vertices,edges_undirected_true)\n",
    "    AUC_Corr_mean[i] = np.mean(AUC_Corr)\n",
    "    AUC_Corr_std[i] = np.std(AUC_Corr)\n",
    "    \n",
    "    AUC_Partial_Corr_mean[i] = np.mean(AUC_Partial_Corr)\n",
    "    AUC_Partial_Corr_std[i] = np.std(AUC_Partial_Corr)\n",
    "    \n",
    "    AUC_Mutual_Info_mean[i] = np.mean(AUC_Mutual_Info)\n",
    "    AUC_Mutual_Info_std[i] = np.std(AUC_Mutual_Info)"
   ]
  },
  {
   "cell_type": "markdown",
   "metadata": {},
   "source": [
    "We can clearly see that Partial Correlation method beats other methods significantly. Partial Correlation method takes out effect of other variables while calculating correlation. This shows that standard correlation and mutual information measures, while doing feature selection, are not appropriate to model interaction between features and labels"
   ]
  },
  {
   "cell_type": "code",
   "execution_count": 25,
   "metadata": {},
   "outputs": [
    {
     "data": {
      "image/png": "[encoded data removed]",
      "text/plain": [
       "<matplotlib.figure.Figure at 0x15737442c50>"
      ]
     },
     "metadata": {},
     "output_type": "display_data"
    },
    {
     "data": {
      "image/png": "[encoded data removed]",
      "text/plain": [
       "<matplotlib.figure.Figure at 0x15739c76b00>"
      ]
     },
     "metadata": {},
     "output_type": "display_data"
    },
    {
     "data": {
      "image/png": "[encoded data removed]",
      "text/plain": [
       "<matplotlib.figure.Figure at 0x15739ca34a8>"
      ]
     },
     "metadata": {},
     "output_type": "display_data"
    }
   ],
   "source": [
    "%matplotlib inline\n",
    "for i in range(len(sample_size)):\n",
    "    x = ['Correlation', 'Partial Correlation', 'Mutual Information']\n",
    "    y = [AUC_Corr_mean[i],AUC_Partial_Corr_mean[i],AUC_Mutual_Info_mean[i]]\n",
    "    yerr = [AUC_Corr_std[i],AUC_Partial_Corr_std[i],AUC_Mutual_Info_std[i]]\n",
    "    plt.errorbar(x, y, yerr = yerr, fmt='o')\n",
    "    plt.xlabel(\"Method used to estimate edge\")\n",
    "    plt.ylabel(\"Mean AUC ± Standard Devaiation\")\n",
    "    plt.title(\"ROC AUC Error Analysis for different methods (N = %i)\" %sample_size[i])\n",
    "    axes = plt.gca()\n",
    "    axes.set_ylim([0.6,1.0])\n",
    "    plt.grid()\n",
    "    plt.show()"
   ]
  },
  {
   "cell_type": "markdown",
   "metadata": {},
   "source": [
    "Till now, we have performed skeleton estimation for an undirected network. Next, we will introduce directionality estimation to our analysis. We start with a completely connected undirected graph and remove edges one by one based on conditional mutual information measure. Later, we construct witness of independence for different node pairs and perform immorality prediction and rule propagation to estimate directed graph skeleton"
   ]
  },
  {
   "cell_type": "code",
   "execution_count": 26,
   "metadata": {},
   "outputs": [],
   "source": [
    "# Data generation\n",
    "\n",
    "sample_size = [500, 2500]\n",
    "P = generate_samples(sample_size[1])\n",
    "\n",
    "data = {'1': P[0,:], '2': P[1,:], '3': P[2,:], '4': P[3,:], '5': P[4,:], '6': P[5,:], '7': P[6,:]}\n",
    "df_data = pd.DataFrame(data=data)\n",
    "del data"
   ]
  },
  {
   "cell_type": "code",
   "execution_count": 27,
   "metadata": {},
   "outputs": [],
   "source": [
    "# Conditional mutual information evalulation for different node pairs given other nodes\n",
    "\n",
    "Conditional_mutual_info_array_1 = compute_conditional_mutual_informtion_1(df_data)\n",
    "Conditional_mutual_info_array_2 = compute_conditional_mutual_informtion_2(df_data)\n",
    "\n",
    "Conditional_mutual_info_array_1 = np.around(Conditional_mutual_info_array_1, decimals=3)\n",
    "Conditional_mutual_info_array_2 = np.around(Conditional_mutual_info_array_2, decimals=3)"
   ]
  },
  {
   "cell_type": "code",
   "execution_count": 28,
   "metadata": {},
   "outputs": [],
   "source": [
    "# Completely connected undirected graph initialization\n",
    "\n",
    "edges_undirected_predicted_PMAP = {}\n",
    "Witness_of_independence = {}\n",
    "\n",
    "for i in range(len(vertices)):\n",
    "    for j in range(i+1,len(vertices)):\n",
    "        edges_undirected_predicted_PMAP[str(vertices[i]) + str(vertices[j])] = 1\n",
    "        Witness_of_independence[str(vertices[i]) + str(vertices[j])] = []\n",
    "        \n",
    "Edge_List = list(edges_undirected_predicted_PMAP.keys())"
   ]
  },
  {
   "cell_type": "markdown",
   "metadata": {},
   "source": [
    "Let us assume, we have 3 nodes A, B and C. There are 3 unique configurations possible A=>B=>C, A<=B=>C and A=>B<=C. \n",
    "\n",
    "In first and second structure, A and C are independent given B. However, in third structure (immorality or V-shape), it is other way (A and C are dependent given B). So, we find witness of independence for different node pairs (witness of independence are the conditioned nodes given which different node pairs are independent). Using this information, we estimate directed skeleton of graph"
   ]
  },
  {
   "cell_type": "code",
   "execution_count": 29,
   "metadata": {},
   "outputs": [],
   "source": [
    "# Witness of independence evaluation for different node pairs\n",
    "\n",
    "thresh = 0.01\n",
    "\n",
    "Witness_of_independence, \\\n",
    "edges_undirected_predicted_PMAP = find_witness_of_independence_1(Conditional_mutual_info_array_1,\\\n",
    "                                                                 edges_undirected_predicted_PMAP,\\\n",
    "                                                                 Witness_of_independence, vertices,\\\n",
    "                                                                 thresh)\n",
    "\n",
    "Witness_of_independence, \\\n",
    "edges_undirected_predicted_PMAP = find_witness_of_independence_2(Conditional_mutual_info_array_2,\\\n",
    "                                                                 edges_undirected_predicted_PMAP,\\\n",
    "                                                                 Witness_of_independence, vertices,\\\n",
    "                                                                 thresh, Edge_List)"
   ]
  },
  {
   "cell_type": "code",
   "execution_count": 30,
   "metadata": {},
   "outputs": [],
   "source": [
    "edges_predicted_PMAP_Matrix = np.zeros([len(vertices),len(vertices)])\n",
    "\n",
    "for i in range(len(vertices)):\n",
    "    for j in range(i+1,len(vertices)):\n",
    "        if edges_undirected_predicted_PMAP[str(vertices[i]) + str(vertices[j])] == 1:\n",
    "            edges_predicted_PMAP_Matrix[i,j] = 1\n",
    "            \n",
    "for i in range(len(vertices)):\n",
    "    for j in range(0,i):\n",
    "            edges_predicted_PMAP_Matrix[i,j] = edges_predicted_PMAP_Matrix[j,i]"
   ]
  },
  {
   "cell_type": "code",
   "execution_count": 31,
   "metadata": {},
   "outputs": [],
   "source": [
    "# Completely unconnected directed graph initialization\n",
    "\n",
    "edges_directed_predicted_PMAP = {}\n",
    "\n",
    "for i in range(len(vertices)):\n",
    "    for j in range(0,len(vertices)):\n",
    "        if i != j:\n",
    "            edges_directed_predicted_PMAP[str(vertices[i]) + str(vertices[j])] = 0"
   ]
  },
  {
   "cell_type": "code",
   "execution_count": 32,
   "metadata": {},
   "outputs": [],
   "source": [
    "# Immorality Prediction (V-structure)\n",
    "\n",
    "immoralities_predicted, \\\n",
    "edges_directed_predicted_PMAP = get_immorality_prediction(edges_undirected_predicted_PMAP,\\\n",
    "                                                          edges_directed_predicted_PMAP)"
   ]
  },
  {
   "cell_type": "code",
   "execution_count": 33,
   "metadata": {},
   "outputs": [],
   "source": [
    "for i in range(len(vertices)):\n",
    "    for j in range(len(vertices)):\n",
    "        if i != j and edges_directed_predicted_PMAP[str(vertices[i]) + str(vertices[j])] == 1:\n",
    "            edges_predicted_PMAP_Matrix[i,j] = 2\n",
    "        if edges_predicted_PMAP_Matrix[i,j] == 2 and edges_predicted_PMAP_Matrix[j,i] != 2:\n",
    "            edges_predicted_PMAP_Matrix[j,i] = 0"
   ]
  },
  {
   "cell_type": "code",
   "execution_count": 34,
   "metadata": {},
   "outputs": [],
   "source": [
    "edges_predicted_PMAP_Matrix, \\\n",
    "immoralities_predicted = remove_bidirectional_edges(edges_predicted_PMAP_Matrix,immoralities_predicted,vertices)"
   ]
  },
  {
   "cell_type": "code",
   "execution_count": 35,
   "metadata": {},
   "outputs": [
    {
     "data": {
      "text/plain": [
       "array([[0., 0., 2., 0., 0., 0., 0.],\n",
       "       [0., 0., 2., 0., 0., 0., 0.],\n",
       "       [0., 0., 0., 2., 2., 0., 0.],\n",
       "       [0., 0., 0., 0., 0., 2., 2.],\n",
       "       [0., 0., 0., 0., 0., 0., 2.],\n",
       "       [0., 0., 0., 1., 0., 0., 2.],\n",
       "       [0., 0., 0., 0., 0., 0., 0.]])"
      ]
     },
     "execution_count": 35,
     "metadata": {},
     "output_type": "execute_result"
    }
   ],
   "source": [
    "# Directed graph estimation from Rule Propagatiion\n",
    "\n",
    "edges_predicted_PMAP_Matrix = generate_pdag(edges_predicted_PMAP_Matrix)\n",
    "edges_predicted_PMAP_Matrix"
   ]
  },
  {
   "cell_type": "code",
   "execution_count": 36,
   "metadata": {},
   "outputs": [],
   "source": [
    "edges_directed_true = ['AC','BC','CD','CE','DF','DG','EG','GF']\n",
    "\n",
    "edges_true_PMAP_Matrix = np.zeros([len(vertices),len(vertices)])\n",
    "\n",
    "for i in range(len(vertices)):\n",
    "    for j in range(len(vertices)):\n",
    "        if i != j and str(vertices[i]) + str(vertices[j]) in edges_directed_true:\n",
    "            edges_true_PMAP_Matrix[i,j] = 2"
   ]
  },
  {
   "cell_type": "code",
   "execution_count": 37,
   "metadata": {},
   "outputs": [],
   "source": [
    "immoralities_true = ['ACB','DFG','DGE']\n",
    "immoralities_possible = []\n",
    "\n",
    "for i in range(len(vertices)):\n",
    "    for j in range(len(vertices)):\n",
    "        if j != i:\n",
    "            for k in range(j+1,len(vertices)):\n",
    "                if k != i and k != j:\n",
    "                    immoralities_possible.append(vertices[j]+vertices[i]+vertices[k])"
   ]
  },
  {
   "cell_type": "code",
   "execution_count": 38,
   "metadata": {},
   "outputs": [
    {
     "name": "stdout",
     "output_type": "stream",
     "text": [
      "Edges Predictions\n",
      "TP, FP, TN, FN\n",
      "7 1 33 1\n"
     ]
    }
   ],
   "source": [
    "# FP and TP for Edges\n",
    "\n",
    "TP = FP = TN = FN = 0\n",
    "\n",
    "for i in range(len(vertices)):\n",
    "    for j in range(len(vertices)):\n",
    "        if i != j:\n",
    "            if edges_true_PMAP_Matrix[i,j] == 2 and edges_predicted_PMAP_Matrix[i,j] == 2:\n",
    "                TP += 1\n",
    "                continue\n",
    "            if edges_true_PMAP_Matrix[i,j] == 0 and edges_predicted_PMAP_Matrix[i,j] == 2:\n",
    "                FP += 1\n",
    "                continue\n",
    "            if edges_true_PMAP_Matrix[i,j] == 0 and edges_predicted_PMAP_Matrix[i,j] != 2:\n",
    "                TN += 1\n",
    "                continue\n",
    "            if edges_true_PMAP_Matrix[i,j] == 2 and edges_predicted_PMAP_Matrix[i,j] != 2:\n",
    "                FN += 1\n",
    "                continue\n",
    "                \n",
    "print (\"Edges Predictions\")\n",
    "print (\"TP, FP, TN, FN\")\n",
    "print (TP, FP, TN, FN)"
   ]
  },
  {
   "cell_type": "code",
   "execution_count": 39,
   "metadata": {},
   "outputs": [
    {
     "name": "stdout",
     "output_type": "stream",
     "text": [
      "Immorality Predictions\n",
      "TP, FP, TN, FN\n",
      "2 1 101 1\n"
     ]
    }
   ],
   "source": [
    "# FP and TP for Immoralities\n",
    "\n",
    "TP = FP = TN = FN = 0\n",
    "\n",
    "for immorality in immoralities_possible:\n",
    "    if immorality in immoralities_true and immorality in immoralities_predicted:\n",
    "        TP += 1\n",
    "        continue\n",
    "    if immorality not in immoralities_true and immorality in immoralities_predicted:\n",
    "        FP += 1\n",
    "        continue\n",
    "    if immorality in immoralities_true and immorality not in immoralities_predicted:\n",
    "        FN += 1\n",
    "        continue\n",
    "    if immorality not in immoralities_true and immorality not in immoralities_predicted:\n",
    "        TN += 1\n",
    "        continue\n",
    "\n",
    "print (\"Immorality Predictions\")\n",
    "print (\"TP, FP, TN, FN\")\n",
    "print (TP, FP, TN, FN)"
   ]
  },
  {
   "cell_type": "code",
   "execution_count": null,
   "metadata": {},
   "outputs": [],
   "source": []
  }
 ],
 "metadata": {
  "kernelspec": {
   "display_name": "Python 3",
   "language": "python",
   "name": "python3"
  },
  "language_info": {
   "codemirror_mode": {
    "name": "ipython",
    "version": 3
   },
   "file_extension": ".py",
   "mimetype": "text/x-python",
   "name": "python",
   "nbconvert_exporter": "python",
   "pygments_lexer": "ipython3",
   "version": "3.6.4"
  }
 },
 "nbformat": 4,
 "nbformat_minor": 2
}
